{
 "cells": [
  {
   "cell_type": "markdown",
   "metadata": {},
   "source": [
    "## transposition.py"
   ]
  },
  {
   "cell_type": "code",
   "execution_count": 5,
   "metadata": {},
   "outputs": [
    {
     "name": "stdout",
     "output_type": "stream",
     "text": [
      "[14 10 13 11  1 15 10  9  2  1  0 12 13 13 12  4]\n",
      "Step:  0\n",
      "[ 0  1  1  2  4  9 10 10 11 12 12 13 13 13 14 15]\n"
     ]
    }
   ],
   "source": [
    "#!/usr/bin/env python\n",
    "# transposition.py\n",
    "import numpy as np\n",
    "from mpi4py import MPI\n",
    "comm = MPI.COMM_WORLD\n",
    "rank = comm.Get_rank(); size = comm.Get_size(); status = MPI.Status();\n",
    "N = 16\n",
    "unsorted = np.zeros(N, dtype=\"int\")\n",
    "final_sorted = np.zeros(N, dtype=\"int\")\n",
    "local_array = np.zeros(int(N / size), dtype=\"int\")\n",
    "local_tmp = np.zeros(int(N / size), dtype=\"int\")\n",
    "local_remain = np.zeros(2 * int(N / size), dtype=\"int\")\n",
    "\n",
    "if rank == 0:\n",
    "    unsorted = np.random.randint(low=0,high=N,size=N)\n",
    "    print (unsorted)\n",
    "comm.Scatter(unsorted, local_array, root = 0)\n",
    "\n",
    "local_array.sort()\n",
    "for step in range(0, size):\n",
    "    print (\"Step: \", step)\n",
    "    if (step % 2 == 0):\n",
    "        if (rank % 2 == 0):\n",
    "            des = rank + 1\n",
    "        else:\n",
    "            des = rank - 1\n",
    "    else:\n",
    "        if (rank % 2 == 0):\n",
    "            des = rank - 1\n",
    "        else:\n",
    "            des = rank + 1\n",
    "            \n",
    "    if (des >= 0 and des < size):\n",
    "        print (\"My rank is \", rank, \" and my des is \", des)\n",
    "        comm.Send(local_array, dest = des, tag = 0)\n",
    "        comm.Recv(local_tmp, source = des)    \n",
    "        print (\"Rank \", rank, \" \", step, \": Initial local_array: \", local_array)\n",
    "        print (\"Rank \", rank, \" \", step, \": Received local_tmp:\", local_tmp)\n",
    "        local_remain = np.concatenate((local_array, local_tmp), axis=0)\n",
    "        local_remain.sort()\n",
    "        \n",
    "        if (rank < des):\n",
    "            local_array = local_remain[0:int(N/size)]\n",
    "        else:\n",
    "            local_array = local_remain[int(N/size):2 * int(N/size)]\n",
    "        print (\"Rank \", rank, \" \", step, \": Retained portions: \", local_array)\n",
    "comm.Gather(local_array, final_sorted)\n",
    "\n",
    "if (rank  == 0):\n",
    "    print (final_sorted)"
   ]
  },
  {
   "cell_type": "code",
   "execution_count": 1,
   "metadata": {},
   "outputs": [
    {
     "name": "stdout",
     "output_type": "stream",
     "text": [
      "[12 10 14 10  9  2  6  5 12  0  1 10  9  4  3  4]\n",
      "Step:  0\n",
      "My rank is  0  and my des is  1\n",
      "Rank  0   0 : Initial local_array:  [10 10 12 14]\n",
      "Rank  0   0 : Received local_tmp: [2 5 6 9]\n",
      "Rank  0   0 : Retained portions:  [2 5 6 9]\n",
      "Step:  1\n",
      "Step:  2\n",
      "My rank is  0  and my des is  1\n",
      "Step:  0\n",
      "My rank is  1  and my des is  0\n",
      "Rank  1   0 : Initial local_array:  [2 5 6 9]\n",
      "Rank  1   0 : Received local_tmp: [10 10 12 14]\n",
      "Rank  1   0 : Retained portions:  [10 10 12 14]\n",
      "Step:  1\n",
      "My rank is  1  and my des is  2\n",
      "Rank  1   1 : Initial local_array:  [10 10 12 14]\n",
      "Rank  1   1 : Received local_tmp: [0 1 3 4]\n",
      "Step:  0\n",
      "My rank is  2  and my des is  3\n",
      "Rank  2   0 : Initial local_array:  [ 0  1 10 12]\n",
      "Rank  2   0 : Received local_tmp: [3 4 4 9]\n",
      "Rank  2   0 : Retained portions:  [0 1 3 4]\n",
      "Step:  1\n",
      "My rank is  2  and my des is  1\n",
      "Rank  2   1 : Initial local_array:  [0 1 3 4]\n",
      "Rank  2   1 : Received local_tmp: [10 10 12 14]\n",
      "Step:  0\n",
      "My rank is  3  and my des is  2\n",
      "Rank  3   0 : Initial local_array:  [3 4 4 9]\n",
      "Rank  3   0 : Received local_tmp: [ 0  1 10 12]\n",
      "Rank  3   0 : Retained portions:  [ 4  9 10 12]\n",
      "Step:  1\n",
      "Step:  2\n",
      "My rank is  3  and my des is  2\n",
      "Rank  1   1 : Retained portions:  [0 1 3 4]\n",
      "Step:  2\n",
      "My rank is  1  and my des is  0\n",
      "Rank  2   1 : Retained portions:  [10 10 12 14]\n",
      "Step:  2\n",
      "My rank is  2  and my des is  3\n",
      "Rank  1   2 : Initial local_array:  [0 1 3 4]\n",
      "Rank  0   2 : Initial local_array:  [2 5 6 9]\n",
      "Rank  3   2 : Initial local_array:  [ 4  9 10 12]\n",
      "Rank  2   2 : Initial local_array:  [10 10 12 14]\n",
      "Rank  0   2 : Received local_tmp: [0 1 3 4]\n",
      "Rank  1   2 : Received local_tmp: [2 5 6 9]\n",
      "Rank  2   2 : Received local_tmp: [ 4  9 10 12]\n",
      "Rank  3   2 : Received local_tmp: [10 10 12 14]\n",
      "Rank  3   2 : Retained portions:  [10 12 12 14]\n",
      "Step:  3\n",
      "Rank  0   2 : Retained portions:  [0 1 2 3]\n",
      "Step:  3\n",
      "Rank  1   2 : Retained portions:  [4 5 6 9]\n",
      "Step:  3\n",
      "My rank is  1  and my des is  2\n",
      "Rank  2   2 : Retained portions:  [ 4  9 10 10]\n",
      "Step:  3\n",
      "My rank is  2  and my des is  1\n",
      "Rank  1   3 : Initial local_array:  [4 5 6 9]\n",
      "Rank  2   3 : Initial local_array:  [ 4  9 10 10]\n",
      "Rank  1   3 : Received local_tmp: [ 4  9 10 10]\n",
      "Rank  2   3 : Received local_tmp: [4 5 6 9]\n",
      "Rank  1   3 : Retained portions:  [4 4 5 6]\n",
      "Rank  2   3 : Retained portions:  [ 9  9 10 10]\n",
      "[ 0  1  2  3  4  4  5  6  9  9 10 10 10 12 12 14]\n"
     ]
    }
   ],
   "source": [
    "!module load anaconda3/5.1.0-gcc; mpirun -np 4 --mca mpi_cuda_support 0 python transposition.py"
   ]
  },
  {
   "cell_type": "markdown",
   "metadata": {},
   "source": [
    "## merge.py"
   ]
  },
  {
   "cell_type": "code",
   "execution_count": 5,
   "metadata": {},
   "outputs": [
    {
     "name": "stdout",
     "output_type": "stream",
     "text": [
      "[ 5 13  2 12 10 15  2 11 11 15  2 14 14  8  6 11]\n",
      "Rank:  0\n",
      "[ 2  2  2  5  6  8 10 11 11 11 12 13 14 14 15 15]\n"
     ]
    }
   ],
   "source": [
    "#!/usr/bin/env python\n",
    "# merge.py\n",
    "import numpy as np\n",
    "from mpi4py import MPI\n",
    "comm = MPI.COMM_WORLD\n",
    "rank = comm.Get_rank(); size = comm.Get_size(); status = MPI.Status();\n",
    "N = 16\n",
    "unsorted = np.zeros(N, dtype=\"int\")\n",
    "final_sorted = np.zeros(N, dtype=\"int\")\n",
    "local_array = np.zeros(int(N / size), dtype=\"int\")\n",
    "local_tmp = np.zeros(int(N / size), dtype=\"int\")\n",
    "local_remain = np.zeros(2 * int(N / size), dtype=\"int\")\n",
    "\n",
    "if rank == 0:\n",
    "    unsorted = np.random.randint(low=0,high=N,size=N)\n",
    "    print (unsorted)\n",
    "comm.Scatter(unsorted, local_array, root = 0)\n",
    "\n",
    "local_array.sort()\n",
    "\n",
    "step = size / 2\n",
    "print (\"Rank: \", rank)\n",
    "while (step >= 1):\n",
    "    if (rank >= step and rank < step * 2):\n",
    "        comm.Send(local_array, rank - step, tag = 0)\n",
    "    elif (rank < step):\n",
    "        local_tmp = np.zeros(local_array.size, dtype=\"int\")\n",
    "        local_remain = np.zeros(2 * local_array.size, dtype=\"int\")\n",
    "        comm.Recv(local_tmp, rank + step, tag = 0)\n",
    "        i = 0 #local_array counter\n",
    "        j = 0 # local_tmp counter\n",
    "        for k in range (0, 2 * local_array.size):\n",
    "            if (i >= local_array.size):\n",
    "                local_remain[k] = local_tmp[j]\n",
    "                j += 1\n",
    "            elif (j >= local_array.size):\n",
    "                local_remain[k] = local_array[i]\n",
    "                i += 1\n",
    "            elif (local_array[i] > local_tmp[j]):\n",
    "                local_remain[k] = local_tmp[j]\n",
    "                j += 1\n",
    "            else:\n",
    "                local_remain[k] = local_array[i]\n",
    "                i += 1        \n",
    "        print (\"Step: \", step)\n",
    "        print (\"local array: \", local_array)\n",
    "        print (\"local tmp: \", local_tmp)\n",
    "        print (\"local remain: \", local_remain)\n",
    "        local_array = local_remain\n",
    "    step = step / 2\n",
    "    \n",
    "if (rank  == 0):\n",
    "    print (local_array)"
   ]
  },
  {
   "cell_type": "code",
   "execution_count": 8,
   "metadata": {},
   "outputs": [
    {
     "name": "stdout",
     "output_type": "stream",
     "text": [
      "[ 8  1  1  9  8  0  5  8  7 15  1  8 12 11  6  5]\n",
      "Rank:  0\n",
      "Rank:  1\n",
      "Rank:  2\n",
      "Rank:  3\n",
      "Step:  2.0\n",
      "Step:  2.0\n",
      "local array:  [1 1 8 9]\n",
      "local tmp:  [ 1  7  8 15]\n",
      "local array:  [0 5 8 8]\n",
      "local remain:  [ 1  1  1  7  8  8  9 15]\n",
      "local tmp:  [ 5  6 11 12]\n",
      "local remain:  [ 0  5  5  6  8  8 11 12]\n",
      "Step:  1.0\n",
      "local array:  [ 1  1  1  7  8  8  9 15]\n",
      "local tmp:  [ 0  5  5  6  8  8 11 12]\n",
      "local remain:  [ 0  1  1  1  5  5  6  7  8  8  8  8  9 11 12 15]\n",
      "[ 0  1  1  1  5  5  6  7  8  8  8  8  9 11 12 15]\n"
     ]
    }
   ],
   "source": [
    "!module load anaconda3/5.1.0-gcc; mpirun -np 4 --mca mpi_cuda_support 0 python merge.py"
   ]
  },
  {
   "cell_type": "markdown",
   "metadata": {},
   "source": [
    "## quicksort.py"
   ]
  },
  {
   "cell_type": "code",
   "execution_count": 3,
   "metadata": {},
   "outputs": [
    {
     "name": "stdout",
     "output_type": "stream",
     "text": [
      "Unsorted array  [ 0  6  1  3  4  1 13  7 14 12  2  2 15  5  2  2]\n",
      "Rank:  0\n",
      "Local array at rank  0 :  [ 0  1  1  2  2  2  2  3  4  5  6  7 12 13 14 15]\n"
     ]
    }
   ],
   "source": [
    "#!/usr/bin/env python\n",
    "# quicksort.py\n",
    "import numpy as np\n",
    "from mpi4py import MPI\n",
    "comm = MPI.COMM_WORLD\n",
    "rank = comm.Get_rank(); size = comm.Get_size(); status = MPI.Status();\n",
    "N = 16\n",
    "HAS = 1\n",
    "HASNOT = 0\n",
    "unsorted = np.zeros(N, dtype=\"int\")\n",
    "final_sorted = np.zeros(N, dtype=\"int\")\n",
    "local_array = None\n",
    "local_tmp = None\n",
    "local_tmp_size = np.zeros(1,dtype=\"int\")\n",
    "\n",
    "if rank == 0:\n",
    "    unsorted = np.random.randint(low=0,high=N,size=N)\n",
    "    print (\"Unsorted array \", unsorted)\n",
    "    local_array = unsorted\n",
    "\n",
    "distance = size / 2\n",
    "print (\"Rank: \", rank)\n",
    "while (distance >= 1):\n",
    "    if (rank % distance == 0 and (rank / distance) % 2 == 0):\n",
    "        print (\"Rank \", rank, \" send to rank \", int(rank + distance))\n",
    "        if (local_array is not None):\n",
    "            if local_array.size == 1 or np.unique(local_array).size == 1:\n",
    "                comm.Send(local_array[0], dest = rank + distance, tag = HASNOT)\n",
    "            else:\n",
    "            #    print (\"median is \", np.median(local_array))\n",
    "                local_tmp = local_array[local_array > np.median(local_array)]\n",
    "                comm.Send(np.full(shape = 1, fill_value = local_tmp.size, dtype=\"int\"), dest = rank + distance, tag = HAS)\n",
    "                comm.Send(local_tmp, dest = rank + distance, tag = HAS)\n",
    "                local_array = local_array[local_array <= np.median(local_array)]\n",
    "        else:\n",
    "            comm.Send(np.zeros(1,dtype=\"int\"), rank + distance, tag = HASNOT)\n",
    "    elif (rank % distance == 0 and (rank / distance) % 2 == 1):\n",
    "        comm.Recv(local_tmp_size, source = rank - distance, tag = MPI.ANY_TAG, status = status)\n",
    "        if status.Get_tag() == HASNOT:\n",
    "            continue\n",
    "        else:\n",
    "            local_array = np.zeros(local_tmp_size[0], dtype=\"int\")\n",
    "            comm.Recv(local_array, source = rank - distance, tag = MPI.ANY_TAG, status = status)\n",
    "    distance /= 2\n",
    "#    print (local_array)\n",
    "    \n",
    "local_array.sort()\n",
    "print (\"Local array at rank \", rank, \": \", local_array)"
   ]
  },
  {
   "cell_type": "code",
   "execution_count": 9,
   "metadata": {},
   "outputs": [
    {
     "name": "stdout",
     "output_type": "stream",
     "text": [
      "Rank:  2\n",
      "Rank  2  send to rank  3\n",
      "Local array at rank  2 :  [5]\n",
      "Rank:  3\n",
      "Local array at rank  3 :  [9]\n",
      "Rank:  4\n",
      "Rank  4  send to rank  6\n",
      "Rank  4  send to rank  5\n",
      "Local array at rank  4 :  [10 10 11]\n",
      "Rank:  5\n",
      "Local array at rank  5 :  [12 12]\n",
      "Rank:  6\n",
      "Rank  6  send to rank  7\n",
      "Local array at rank  6 :  [14 15 15]\n",
      "Rank:  7\n",
      "Local array at rank  7 :  []\n",
      "Unsorted array  [ 9 12  5 14  0  3 10  4 15 11 15  0  4 10  4 12]\n",
      "Rank:  0\n",
      "Rank  0  send to rank  4\n",
      "Rank  0  send to rank  2\n",
      "Rank  0  send to rank  1\n",
      "Local array at rank  0 :  [0 0 3]\n",
      "Rank:  1\n",
      "Local array at rank  1 :  [4 4 4]\n"
     ]
    }
   ],
   "source": [
    "!module load anaconda3/5.1.0-gcc; mpirun -np 8 --mca mpi_cuda_support 0 python quicksort.py"
   ]
  },
  {
   "cell_type": "code",
   "execution_count": null,
   "metadata": {},
   "outputs": [],
   "source": []
  }
 ],
 "metadata": {
  "kernelspec": {
   "display_name": "Python 3 (Anaconda 5.1.0)",
   "language": "python",
   "name": "anaconda3-5.1.0"
  },
  "language_info": {
   "codemirror_mode": {
    "name": "ipython",
    "version": 3
   },
   "file_extension": ".py",
   "mimetype": "text/x-python",
   "name": "python",
   "nbconvert_exporter": "python",
   "pygments_lexer": "ipython3",
   "version": "3.6.4"
  }
 },
 "nbformat": 4,
 "nbformat_minor": 4
}
