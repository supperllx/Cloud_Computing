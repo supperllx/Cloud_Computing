{
 "cells": [
  {
   "cell_type": "code",
   "execution_count": 9,
   "metadata": {},
   "outputs": [
    {
     "name": "stdout",
     "output_type": "stream",
     "text": [
      "Hello world from process 0 running on host node0292.palmetto.clemson.edu out of 1 processes\n"
     ]
    }
   ],
   "source": [
    "from mpi4py import MPI\n",
    "comm = MPI.COMM_WORLD\n",
    "rank = comm.Get_rank()\n",
    "size = comm.Get_size()\n",
    "name = MPI.Get_processor_name()\n",
    "print (\"Hello world from process %s running on host %s out of %s processes\" % \n",
    "       (rank, name, size)) "
   ]
  },
  {
   "cell_type": "code",
   "execution_count": 10,
   "metadata": {},
   "outputs": [
    {
     "name": "stdout",
     "output_type": "stream",
     "text": [
      "--------------------------------------------------------------------------\n",
      "The library attempted to open the following supporting CUDA libraries, \n",
      "but each of them failed.  CUDA-aware support is disabled.\n",
      "libcuda.so.1: cannot open shared object file: No such file or directory\n",
      "libcuda.dylib: cannot open shared object file: No such file or directory\n",
      "/usr/lib64/libcuda.so.1: cannot open shared object file: No such file or directory\n",
      "/usr/lib64/libcuda.dylib: cannot open shared object file: No such file or directory\n",
      "If you are not interested in CUDA-aware support, then run with \n",
      "--mca mpi_cuda_support 0 to suppress this message.  If you are interested\n",
      "in CUDA-aware support, then try setting LD_LIBRARY_PATH to the location\n",
      "of libcuda.so.1 to get passed this issue.\n",
      "--------------------------------------------------------------------------\n",
      "Hello world from process 3 running on host node0292.palmetto.clemson.edu out of 8 processes\n",
      "Hello world from process 4 running on host node0292.palmetto.clemson.edu out of 8 processes\n",
      "Hello world from process 5 running on host node0292.palmetto.clemson.edu out of 8 processes\n",
      "Hello world from process 6 running on host node0292.palmetto.clemson.edu out of 8 processes\n",
      "Hello world from process 7 running on host node0292.palmetto.clemson.edu out of 8 processes\n",
      "Hello world from process 1 running on host node0292.palmetto.clemson.edu out of 8 processes\n",
      "Hello world from process 0 running on host node0292.palmetto.clemson.edu out of 8 processes\n",
      "Hello world from process 2 running on host node0292.palmetto.clemson.edu out of 8 processes\n",
      "[node0292.palmetto.clemson.edu:843052] 7 more processes have sent help message help-mpi-common-cuda.txt / dlopen failed\n",
      "[node0292.palmetto.clemson.edu:843052] Set MCA parameter \"orte_base_help_aggregate\" to 0 to see all help / error messages\n"
     ]
    }
   ],
   "source": [
    "!mpirun -np 8 python hello.py"
   ]
  },
  {
   "cell_type": "code",
   "execution_count": 11,
   "metadata": {},
   "outputs": [
    {
     "name": "stdout",
     "output_type": "stream",
     "text": [
      "Hello world from process 0 running on host node0292.palmetto.clemson.edu out of 1 processes\n"
     ]
    }
   ],
   "source": [
    "import numpy as np\n",
    "from mpi4py import MPI\n",
    "comm = MPI.COMM_WORLD\n",
    "rank = comm.Get_rank()\n",
    "size = comm.Get_size()\n",
    "name = MPI.Get_processor_name()\n",
    "print (\"Hello world from process %s running on host %s out of %s processes\" % \n",
    "       (rank, name, size)) "
   ]
  },
  {
   "cell_type": "code",
   "execution_count": 12,
   "metadata": {},
   "outputs": [
    {
     "name": "stdout",
     "output_type": "stream",
     "text": [
      "\n",
      "Currently Loaded Modules:\n",
      "  1) anaconda3/5.1.0-gcc/8.3.1   4) openmpi/1.10.3-gcc/5.4.0-cuda9_2\n",
      "  2) libxml2/2.9.10-gcc/5.4.0    5) openjdk/1.8.0_222-b10-gcc/8.3.1\n",
      "  3) cuda/9.2.88-gcc/5.4.0       6) hadoop/3.2.1-gcc/8.3.1\n",
      "\n",
      " \n",
      "\n"
     ]
    }
   ],
   "source": [
    "!module list"
   ]
  },
  {
   "cell_type": "code",
   "execution_count": 14,
   "metadata": {},
   "outputs": [
    {
     "name": "stdout",
     "output_type": "stream",
     "text": [
      "--------------------------------------------------------------------------\n",
      "The library attempted to open the following supporting CUDA libraries, \n",
      "but each of them failed.  CUDA-aware support is disabled.\n",
      "libcuda.so.1: cannot open shared object file: No such file or directory\n",
      "libcuda.dylib: cannot open shared object file: No such file or directory\n",
      "/usr/lib64/libcuda.so.1: cannot open shared object file: No such file or directory\n",
      "/usr/lib64/libcuda.dylib: cannot open shared object file: No such file or directory\n",
      "If you are not interested in CUDA-aware support, then run with \n",
      "--mca mpi_cuda_support 0 to suppress this message.  If you are interested\n",
      "in CUDA-aware support, then try setting LD_LIBRARY_PATH to the location\n",
      "of libcuda.so.1 to get passed this issue.\n",
      "--------------------------------------------------------------------------\n",
      "Hello world from process 0 running on host node0292.palmetto.clemson.edu out of 4 processes\n",
      "Hello world from process 2 running on host node0292.palmetto.clemson.edu out of 4 processes\n",
      "Hello world from process 1 running on host node0292.palmetto.clemson.edu out of 4 processes\n",
      "Hello world from process 3 running on host node0292.palmetto.clemson.edu out of 4 processes\n",
      "[node0292.palmetto.clemson.edu:843100] 3 more processes have sent help message help-mpi-common-cuda.txt / dlopen failed\n",
      "[node0292.palmetto.clemson.edu:843100] Set MCA parameter \"orte_base_help_aggregate\" to 0 to see all help / error messages\n"
     ]
    }
   ],
   "source": [
    "!module load anaconda3/5.1.0-gcc/8.3.1; mpirun -np 4 python try.py"
   ]
  },
  {
   "cell_type": "code",
   "execution_count": null,
   "metadata": {},
   "outputs": [],
   "source": []
  }
 ],
 "metadata": {
  "kernelspec": {
   "display_name": "Python 3 (Anaconda 5.1.0)",
   "language": "python",
   "name": "anaconda3-5.1.0"
  },
  "language_info": {
   "codemirror_mode": {
    "name": "ipython",
    "version": 3
   },
   "file_extension": ".py",
   "mimetype": "text/x-python",
   "name": "python",
   "nbconvert_exporter": "python",
   "pygments_lexer": "ipython3",
   "version": "3.6.4"
  }
 },
 "nbformat": 4,
 "nbformat_minor": 4
}
